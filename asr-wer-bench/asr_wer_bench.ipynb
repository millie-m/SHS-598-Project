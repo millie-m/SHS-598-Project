{
  "nbformat": 4,
  "nbformat_minor": 0,
  "metadata": {
    "colab": {
      "name": "asr_wer_bench.ipynb",
      "provenance": [],
      "collapsed_sections": [],
      "include_colab_link": true
    },
    "kernelspec": {
      "name": "python3",
      "display_name": "Python 3"
    }
  },
  "cells": [
    {
      "cell_type": "markdown",
      "metadata": {
        "id": "view-in-github",
        "colab_type": "text"
      },
      "source": [
        "<a href=\"https://colab.research.google.com/github/SlangLabs/asr-wer-bench/blob/main/asr_wer_bench.ipynb\" target=\"_parent\"><img src=\"https://colab.research.google.com/assets/colab-badge.svg\" alt=\"Open In Colab\"/></a>"
      ]
    },
    {
      "cell_type": "markdown",
      "metadata": {
        "id": "9CTsB1kBZTQc"
      },
      "source": [
        "# ASR WER Benchmark\n",
        "\n",
        "Infrastructure to measure Word Error Rate for an offline ASR engine on a given audio data set."
      ]
    },
    {
      "cell_type": "markdown",
      "metadata": {
        "id": "u1lnSbgXaFMd"
      },
      "source": [
        "## Setup"
      ]
    },
    {
      "cell_type": "code",
      "metadata": {
        "id": "na8uMfRCfm9d",
        "outputId": "ea399ab1-3f12-4f00-e450-b4c2194f2160",
        "colab": {
          "base_uri": "https://localhost:8080/"
        }
      },
      "source": [
        "!python --version"
      ],
      "execution_count": 1,
      "outputs": [
        {
          "output_type": "stream",
          "text": [
            "Python 3.6.9\n"
          ],
          "name": "stdout"
        }
      ]
    },
    {
      "cell_type": "code",
      "metadata": {
        "id": "YZEydhc6yxoi"
      },
      "source": [
        "# For wav2vec\n",
        "%load_ext cython"
      ],
      "execution_count": 2,
      "outputs": []
    },
    {
      "cell_type": "code",
      "metadata": {
        "id": "e-YqeBdLq5Jb"
      },
      "source": [
        "!apt-get -y install tree build-essential cmake sox libsox-dev \\\n",
        "    libfftw3-dev libatlas-base-dev liblzma-dev libbz2-dev libzstd-dev \\\n",
        "    apt-utils gcc libpq-dev libopenblas-dev \\\n",
        "    libsndfile-dev libsndfile1-dev libgflags-dev libgoogle-glog-dev \\\n",
        "    &> /dev/null"
      ],
      "execution_count": 3,
      "outputs": []
    },
    {
      "cell_type": "markdown",
      "metadata": {
        "id": "N2uQYS1kaJYl"
      },
      "source": [
        "### SCTK\n",
        "\n",
        "Install `sclite`."
      ]
    },
    {
      "cell_type": "code",
      "metadata": {
        "id": "tiAC4NYwZPo1",
        "outputId": "a6727964-5b77-4dbb-dec0-fc913c3321e2",
        "colab": {
          "base_uri": "https://localhost:8080/"
        }
      },
      "source": [
        "!git clone https://github.com/usnistgov/SCTK.git"
      ],
      "execution_count": 4,
      "outputs": [
        {
          "output_type": "stream",
          "text": [
            "Cloning into 'SCTK'...\n",
            "remote: Enumerating objects: 5115, done.\u001b[K\n",
            "remote: Total 5115 (delta 0), reused 0 (delta 0), pack-reused 5115\u001b[K\n",
            "Receiving objects: 100% (5115/5115), 7.26 MiB | 19.26 MiB/s, done.\n",
            "Resolving deltas: 100% (3658/3658), done.\n"
          ],
          "name": "stdout"
        }
      ]
    },
    {
      "cell_type": "code",
      "metadata": {
        "id": "7ITAy3mea0XR",
        "outputId": "a60fdde2-40d9-4d82-ccee-7a43ef1fa135",
        "colab": {
          "base_uri": "https://localhost:8080/"
        }
      },
      "source": [
        "!ls -l SCTK"
      ],
      "execution_count": 5,
      "outputs": [
        {
          "output_type": "stream",
          "text": [
            "total 52\n",
            "-rw-r--r--  1 root root 16498 Nov 12 08:39 CHANGELOG\n",
            "-rw-r--r--  1 root root   788 Nov 12 08:39 DISCLAIMER\n",
            "drwxr-xr-x  4 root root  4096 Nov 12 08:39 doc\n",
            "-rw-r--r--  1 root root  2273 Nov 12 08:39 LICENSE.md\n",
            "-rw-r--r--  1 root root  1673 Nov 12 08:39 makefile\n",
            "-rw-r--r--  1 root root  6440 Nov 12 08:39 README.md\n",
            "drwxr-xr-x 26 root root  4096 Nov 12 08:39 src\n",
            "-rw-r--r--  1 root root  1484 Nov 12 08:39 TODO\n"
          ],
          "name": "stdout"
        }
      ]
    },
    {
      "cell_type": "code",
      "metadata": {
        "id": "Me-x-uWRaolm"
      },
      "source": [
        "!cd SCTK && make config &> /dev/null"
      ],
      "execution_count": 6,
      "outputs": []
    },
    {
      "cell_type": "code",
      "metadata": {
        "id": "z7AunnNvi0mP"
      },
      "source": [
        "!cd SCTK && make all &> /dev/null"
      ],
      "execution_count": 7,
      "outputs": []
    },
    {
      "cell_type": "code",
      "metadata": {
        "id": "AorEdKtui65x"
      },
      "source": [
        "!cd SCTK && make check &> /dev/null"
      ],
      "execution_count": 8,
      "outputs": []
    },
    {
      "cell_type": "code",
      "metadata": {
        "id": "7e18VrchjFcq"
      },
      "source": [
        "!cd SCTK  && make install &> /dev/null"
      ],
      "execution_count": 9,
      "outputs": []
    },
    {
      "cell_type": "code",
      "metadata": {
        "id": "eAXNRVldch9Y",
        "outputId": "24129c41-21ef-4725-ac13-ad5b793e9539",
        "colab": {
          "base_uri": "https://localhost:8080/"
        }
      },
      "source": [
        "!ls -la SCTK/bin/sclite"
      ],
      "execution_count": 10,
      "outputs": [
        {
          "output_type": "stream",
          "text": [
            "-rwxr-xr-x 1 root root 344296 Nov 12 08:41 SCTK/bin/sclite\n"
          ],
          "name": "stdout"
        }
      ]
    },
    {
      "cell_type": "markdown",
      "metadata": {
        "id": "juw7A5dCoYlw"
      },
      "source": [
        "### KenLM Language Model\n",
        "\n",
        "Needed for wav2vec"
      ]
    },
    {
      "cell_type": "markdown",
      "metadata": {
        "id": "SAYFqnD9GrlP"
      },
      "source": [
        "#### Build From GitHub"
      ]
    },
    {
      "cell_type": "code",
      "metadata": {
        "id": "0LosB7fSofcv",
        "outputId": "23c671f9-e829-4d8d-9639-fe47aa40a7d0",
        "colab": {
          "base_uri": "https://localhost:8080/"
        }
      },
      "source": [
        "!git clone https://github.com/kpu/kenlm.git"
      ],
      "execution_count": 11,
      "outputs": [
        {
          "output_type": "stream",
          "text": [
            "Cloning into 'kenlm'...\n",
            "remote: Enumerating objects: 90, done.\u001b[K\n",
            "remote: Counting objects: 100% (90/90), done.\u001b[K\n",
            "remote: Compressing objects: 100% (64/64), done.\u001b[K\n",
            "remote: Total 13672 (delta 41), reused 54 (delta 21), pack-reused 13582\u001b[K\n",
            "Receiving objects: 100% (13672/13672), 5.53 MiB | 18.17 MiB/s, done.\n",
            "Resolving deltas: 100% (7847/7847), done.\n"
          ],
          "name": "stdout"
        }
      ]
    },
    {
      "cell_type": "code",
      "metadata": {
        "id": "7Eg0sJ0TopZJ",
        "outputId": "a9a4ee5c-8446-4530-ab4a-9d4a618e91d2",
        "colab": {
          "base_uri": "https://localhost:8080/"
        }
      },
      "source": [
        "!cd kenlm && mkdir -p build && cd build && cmake .. -DCMAKE_BUILD_TYPE=Release -DCMAKE_POSITION_INDEPENDENT_CODE=ON && make -j16 &> /dev/null"
      ],
      "execution_count": 12,
      "outputs": [
        {
          "output_type": "stream",
          "text": [
            "-- The C compiler identification is GNU 7.5.0\n",
            "-- The CXX compiler identification is GNU 7.5.0\n",
            "-- Check for working C compiler: /usr/bin/cc\n",
            "-- Check for working C compiler: /usr/bin/cc -- works\n",
            "-- Detecting C compiler ABI info\n",
            "-- Detecting C compiler ABI info - done\n",
            "-- Detecting C compile features\n",
            "-- Detecting C compile features - done\n",
            "-- Check for working CXX compiler: /usr/bin/c++\n",
            "-- Check for working CXX compiler: /usr/bin/c++ -- works\n",
            "-- Detecting CXX compiler ABI info\n",
            "-- Detecting CXX compiler ABI info - done\n",
            "-- Detecting CXX compile features\n",
            "-- Detecting CXX compile features - done\n",
            "-- Could NOT find Eigen3 (missing: Eigen3_DIR)\n",
            "-- Looking for pthread.h\n",
            "-- Looking for pthread.h - found\n",
            "-- Looking for pthread_create\n",
            "-- Looking for pthread_create - not found\n",
            "-- Looking for pthread_create in pthreads\n",
            "-- Looking for pthread_create in pthreads - not found\n",
            "-- Looking for pthread_create in pthread\n",
            "-- Looking for pthread_create in pthread - found\n",
            "-- Found Threads: TRUE  \n",
            "-- Boost version: 1.65.1\n",
            "-- Found the following Boost libraries:\n",
            "--   program_options\n",
            "--   system\n",
            "--   thread\n",
            "--   unit_test_framework\n",
            "--   chrono\n",
            "--   date_time\n",
            "--   atomic\n",
            "-- Check if compiler accepts -pthread\n",
            "-- Check if compiler accepts -pthread - yes\n",
            "-- Found ZLIB: /usr/lib/x86_64-linux-gnu/libz.so (found version \"1.2.11\") \n",
            "-- Found BZip2: /usr/lib/x86_64-linux-gnu/libbz2.so (found version \"1.0.6\") \n",
            "-- Looking for BZ2_bzCompressInit\n",
            "-- Looking for BZ2_bzCompressInit - found\n",
            "-- Looking for lzma_auto_decoder in /usr/lib/x86_64-linux-gnu/liblzma.so\n",
            "-- Looking for lzma_auto_decoder in /usr/lib/x86_64-linux-gnu/liblzma.so - found\n",
            "-- Looking for lzma_easy_encoder in /usr/lib/x86_64-linux-gnu/liblzma.so\n",
            "-- Looking for lzma_easy_encoder in /usr/lib/x86_64-linux-gnu/liblzma.so - found\n",
            "-- Looking for lzma_lzma_preset in /usr/lib/x86_64-linux-gnu/liblzma.so\n",
            "-- Looking for lzma_lzma_preset in /usr/lib/x86_64-linux-gnu/liblzma.so - found\n",
            "-- Found LibLZMA: /usr/include (found version \"5.2.2\") \n",
            "-- Configuring done\n",
            "-- Generating done\n",
            "-- Build files have been written to: /content/kenlm/build\n"
          ],
          "name": "stdout"
        }
      ]
    },
    {
      "cell_type": "markdown",
      "metadata": {
        "id": "iHGHJPJYG3x_"
      },
      "source": [
        "#### Build from https://kheafield.com/code/kenlm/"
      ]
    },
    {
      "cell_type": "code",
      "metadata": {
        "id": "LTvrFu_zHKpo"
      },
      "source": [
        "#!mkdir -p kenlm/build\n",
        "#!cd kenlm && curl -LO https://kheafield.com/code/kenlm.tar.gz\n",
        "#!cd kenlm/build && cmake .. -DCMAKE_BUILD_TYPE=Release -DCMAKE_POSITION_INDEPENDENT_CODE=ON && make -j2"
      ],
      "execution_count": 13,
      "outputs": []
    },
    {
      "cell_type": "markdown",
      "metadata": {
        "id": "BO8DfUlyHO1S"
      },
      "source": [
        "#### Set KENLM root"
      ]
    },
    {
      "cell_type": "code",
      "metadata": {
        "id": "fPcW9xJGpCX3"
      },
      "source": [
        "import os\n",
        "os.environ['KENLM_ROOT_DIR'] = os.path.abspath('./kenlm')"
      ],
      "execution_count": 14,
      "outputs": []
    },
    {
      "cell_type": "code",
      "metadata": {
        "id": "HnXm4zokqO_L",
        "outputId": "f37b89ef-90f7-4948-9270-27be8e3a7c6b",
        "colab": {
          "base_uri": "https://localhost:8080/"
        }
      },
      "source": [
        "!echo $KENLM_ROOT_DIR"
      ],
      "execution_count": 15,
      "outputs": [
        {
          "output_type": "stream",
          "text": [
            "/content/kenlm\n"
          ],
          "name": "stdout"
        }
      ]
    },
    {
      "cell_type": "markdown",
      "metadata": {
        "id": "D0zSbyPrD-O-"
      },
      "source": [
        "#### Build LM\n",
        "\n",
        "Instructions to build LM: https://kheafield.com/code/kenlm/structures/"
      ]
    },
    {
      "cell_type": "code",
      "metadata": {
        "id": "ZaTSp1I3Bmvc"
      },
      "source": [
        "!mkdir -p ./models/kenlm/en-US/"
      ],
      "execution_count": 16,
      "outputs": []
    },
    {
      "cell_type": "code",
      "metadata": {
        "id": "HpfSWldUC42q",
        "outputId": "f2dffca0-cba2-4660-97ce-6e6dd84f155a",
        "colab": {
          "base_uri": "https://localhost:8080/"
        }
      },
      "source": [
        "!cd ./models/kenlm/en-US/ && curl -LO http://www.openslr.org/resources/11/4-gram.arpa.gz"
      ],
      "execution_count": 17,
      "outputs": [
        {
          "output_type": "stream",
          "text": [
            "  % Total    % Received % Xferd  Average Speed   Time    Time     Time  Current\n",
            "                                 Dload  Upload   Total   Spent    Left  Speed\n",
            "100 1292M  100 1292M    0     0  26.6M      0  0:00:48  0:00:48 --:--:-- 26.6M\n"
          ],
          "name": "stdout"
        }
      ]
    },
    {
      "cell_type": "code",
      "metadata": {
        "id": "GPntTd5aEw3N"
      },
      "source": [
        "!cd ./models/kenlm/en-US/ && gunzip 4-gram.arpa.gz"
      ],
      "execution_count": 18,
      "outputs": []
    },
    {
      "cell_type": "code",
      "metadata": {
        "id": "MTxvErrmDwIQ",
        "outputId": "18a9d7cd-0df8-442e-ebaa-09f6b3615db0",
        "colab": {
          "base_uri": "https://localhost:8080/"
        }
      },
      "source": [
        "!ls -l ./models/kenlm/en-US/"
      ],
      "execution_count": 19,
      "outputs": [
        {
          "output_type": "stream",
          "text": [
            "total 4292612\n",
            "-rw-r--r-- 1 root root 4395628122 Nov 12 08:43 4-gram.arpa\n"
          ],
          "name": "stdout"
        }
      ]
    },
    {
      "cell_type": "code",
      "metadata": {
        "id": "Jlbxoh0KJM7t",
        "outputId": "fe2cad4c-45b8-463c-dee8-6bcf5e9ef4ae",
        "colab": {
          "base_uri": "https://localhost:8080/"
        }
      },
      "source": [
        "!cd ./models/kenlm/en-US/ && $KENLM_ROOT_DIR/build/bin/build_binary trie 4-gram.arpa 4-gram.bin"
      ],
      "execution_count": 20,
      "outputs": [
        {
          "output_type": "stream",
          "text": [
            "Reading 4-gram.arpa\n",
            "----5---10---15---20---25---30---35---40---45---50---55---60---65---70---75---80---85---90---95--100\n",
            "tcmalloc: large alloc 1219518464 bytes == 0x559445e02000 @  0x7fe4b09eb1e7 0x55944334399e 0x559443338720 0x55944331594b 0x559443318514 0x55944330cf55 0x7fe4af22fbf7 0x55944330d6aa\n",
            "****************************************************************************************************\n",
            "Identifying n-grams omitted by SRI\n",
            "----5---10---15---20---25---30---35---40---45---50---55---60---65---70---75---80---85---90---95--100\n",
            "****************************************************************************************************\n",
            "Writing trie\n",
            "----5---10---15---20---25---30---35---40---45---50---55---60---65---70---75---80---85---90---95--100\n",
            "****************************************************************************************************\n",
            "SUCCESS\n"
          ],
          "name": "stdout"
        }
      ]
    },
    {
      "cell_type": "code",
      "metadata": {
        "id": "DCAG4YIaJgYa",
        "outputId": "a796a54a-551a-44c2-cb23-0d31a1de03c7",
        "colab": {
          "base_uri": "https://localhost:8080/"
        }
      },
      "source": [
        "!ls -l ./models/kenlm/en-US/"
      ],
      "execution_count": 21,
      "outputs": [
        {
          "output_type": "stream",
          "text": [
            "total 5812376\n",
            "-rw-r--r-- 1 root root 4395628122 Nov 12 08:43 4-gram.arpa\n",
            "-rw-r--r-- 1 root root 1556230938 Nov 12 08:48 4-gram.bin\n"
          ],
          "name": "stdout"
        }
      ]
    },
    {
      "cell_type": "markdown",
      "metadata": {
        "id": "CDRqvcwWlNPa"
      },
      "source": [
        "### ASR WER Bench\n",
        "\n",
        "Clone repo and set env"
      ]
    },
    {
      "cell_type": "code",
      "metadata": {
        "id": "zfibfwazlPLv",
        "outputId": "37018e02-e744-4709-b907-f5b4f9967649",
        "colab": {
          "base_uri": "https://localhost:8080/"
        }
      },
      "source": [
        "!git clone https://github.com/SlangLabs/asr-wer-bench.git"
      ],
      "execution_count": 22,
      "outputs": [
        {
          "output_type": "stream",
          "text": [
            "Cloning into 'asr-wer-bench'...\n",
            "remote: Enumerating objects: 33, done.\u001b[K\n",
            "remote: Counting objects: 100% (33/33), done.\u001b[K\n",
            "remote: Compressing objects: 100% (20/20), done.\u001b[K\n",
            "remote: Total 33 (delta 4), reused 29 (delta 4), pack-reused 0\u001b[K\n",
            "Unpacking objects: 100% (33/33), done.\n"
          ],
          "name": "stdout"
        }
      ]
    },
    {
      "cell_type": "code",
      "metadata": {
        "id": "jT50j5iXm2k1",
        "outputId": "a210f929-a5be-41df-88ac-6cac42da8467",
        "colab": {
          "base_uri": "https://localhost:8080/"
        }
      },
      "source": [
        "# Run for CPU\n",
        "!pip install -r asr-wer-bench/requirements.txt"
      ],
      "execution_count": 23,
      "outputs": [
        {
          "output_type": "stream",
          "text": [
            "Requirement already satisfied: deepspeech==0.8.1 in /usr/local/lib/python3.6/dist-packages (from -r asr-wer-bench/requirements.txt (line 1)) (0.8.1)\n",
            "Requirement already satisfied: numpy==1.18.5 in /usr/local/lib/python3.6/dist-packages (from -r asr-wer-bench/requirements.txt (line 2)) (1.18.5)\n",
            "Requirement already satisfied: scipy==1.4.1 in /usr/local/lib/python3.6/dist-packages (from -r asr-wer-bench/requirements.txt (line 3)) (1.4.1)\n"
          ],
          "name": "stdout"
        }
      ]
    },
    {
      "cell_type": "code",
      "metadata": {
        "id": "tL-s2jAbnFHm"
      },
      "source": [
        "# Run for GPU\n",
        "#!pip install -r asr-wer-bench/requirements-gpu.txt"
      ],
      "execution_count": 24,
      "outputs": []
    },
    {
      "cell_type": "code",
      "metadata": {
        "id": "ERg9eU7xPmUg",
        "outputId": "ebb59045-4993-4138-f995-fe21e500a3b4",
        "colab": {
          "base_uri": "https://localhost:8080/"
        }
      },
      "source": [
        "!ls -l asr-wer-bench/data/en-US/audio"
      ],
      "execution_count": 25,
      "outputs": [
        {
          "output_type": "stream",
          "text": [
            "total 272\n",
            "-rw-r--r-- 1 root root    23 Nov 12 08:48 2830-3980-0043.txt\n",
            "-rw-r--r-- 1 root root 63244 Nov 12 08:48 2830-3980-0043.wav\n",
            "-rw-r--r-- 1 root root    31 Nov 12 08:48 4507-16021-0012.txt\n",
            "-rw-r--r-- 1 root root 87564 Nov 12 08:48 4507-16021-0012.wav\n",
            "-rw-r--r-- 1 root root    32 Nov 12 08:48 8455-210777-0068.txt\n",
            "-rw-r--r-- 1 root root 82924 Nov 12 08:48 8455-210777-0068.wav\n",
            "-rw-r--r-- 1 root root   340 Nov 12 08:48 Attribution.txt\n",
            "-rw-r--r-- 1 root root 18652 Nov 12 08:48 License.txt\n"
          ],
          "name": "stdout"
        }
      ]
    },
    {
      "cell_type": "markdown",
      "metadata": {
        "id": "O1IrYqA6BAi_"
      },
      "source": [
        "## DeepSpeech"
      ]
    },
    {
      "cell_type": "markdown",
      "metadata": {
        "id": "GpAxB1VlnWW8"
      },
      "source": [
        "### Download Models"
      ]
    },
    {
      "cell_type": "code",
      "metadata": {
        "id": "WcWO834mnZJU",
        "outputId": "70e66f9e-1b08-4f9c-ddaf-6802d965719a",
        "colab": {
          "base_uri": "https://localhost:8080/"
        }
      },
      "source": [
        "!mkdir -p ./models/deepspeech/en-US/\n",
        "!cd ./models/deepspeech/en-US/ && curl -LO https://github.com/mozilla/DeepSpeech/releases/download/v0.8.1/deepspeech-0.8.1-models.pbmm\n",
        "!cd ./models/deepspeech/en-US/ && curl -LO https://github.com/mozilla/DeepSpeech/releases/download/v0.8.1/deepspeech-0.8.1-models.scorer"
      ],
      "execution_count": 26,
      "outputs": [
        {
          "output_type": "stream",
          "text": [
            "  % Total    % Received % Xferd  Average Speed   Time    Time     Time  Current\n",
            "                                 Dload  Upload   Total   Spent    Left  Speed\n",
            "100   652  100   652    0     0   4024      0 --:--:-- --:--:-- --:--:--  4024\n",
            "100  180M  100  180M    0     0  55.9M      0  0:00:03  0:00:03 --:--:-- 59.6M\n",
            "  % Total    % Received % Xferd  Average Speed   Time    Time     Time  Current\n",
            "                                 Dload  Upload   Total   Spent    Left  Speed\n",
            "100   654  100   654    0     0   4087      0 --:--:-- --:--:-- --:--:--  4087\n",
            "100  909M  100  909M    0     0  72.2M      0  0:00:12  0:00:12 --:--:-- 70.4M\n"
          ],
          "name": "stdout"
        }
      ]
    },
    {
      "cell_type": "code",
      "metadata": {
        "id": "8YzxbaucntIt",
        "outputId": "8ebb29cd-c915-465a-c3d2-888b0b816d7b",
        "colab": {
          "base_uri": "https://localhost:8080/"
        }
      },
      "source": [
        "!ls -l ./models/deepspeech/en-US/"
      ],
      "execution_count": 27,
      "outputs": [
        {
          "output_type": "stream",
          "text": [
            "total 1115516\n",
            "-rw-r--r-- 1 root root 188915984 Nov 12 08:48 deepspeech-0.8.1-models.pbmm\n",
            "-rw-r--r-- 1 root root 953363776 Nov 12 08:48 deepspeech-0.8.1-models.scorer\n"
          ],
          "name": "stdout"
        }
      ]
    },
    {
      "cell_type": "code",
      "metadata": {
        "id": "omVYWRpMnxfv",
        "outputId": "37a25249-3f6f-4bda-cdb3-533bf81dadfc",
        "colab": {
          "base_uri": "https://localhost:8080/"
        }
      },
      "source": [
        "# Verify DeepSpeech\n",
        "\n",
        "!deepspeech \\\n",
        "  --model models/deepspeech/en-US/deepspeech-0.8.1-models.pbmm \\\n",
        "  --scorer models/deepspeech/en-US/deepspeech-0.8.1-models.scorer \\\n",
        "  --audio asr-wer-bench/data/en-US/audio/2830-3980-0043.wav"
      ],
      "execution_count": 28,
      "outputs": [
        {
          "output_type": "stream",
          "text": [
            "Loading model from file models/deepspeech/en-US/deepspeech-0.8.1-models.pbmm\n",
            "TensorFlow: v2.2.0-24-g1c1b2b9\n",
            "DeepSpeech: v0.8.1-0-gfa883eb\n",
            "2020-11-12 08:48:24.472793: I tensorflow/core/platform/cpu_feature_guard.cc:143] Your CPU supports instructions that this TensorFlow binary was not compiled to use: AVX2 FMA\n",
            "Loaded model in 0.0592s.\n",
            "Loading scorer from files models/deepspeech/en-US/deepspeech-0.8.1-models.scorer\n",
            "Loaded scorer in 0.000458s.\n",
            "Running inference.\n",
            "experience proves this\n",
            "Inference took 1.999s for 1.975s audio file.\n"
          ],
          "name": "stdout"
        }
      ]
    },
    {
      "cell_type": "code",
      "metadata": {
        "id": "ED_15aL4oEop",
        "outputId": "fafc3743-b49e-4ac7-8301-856eb96f29e5",
        "colab": {
          "base_uri": "https://localhost:8080/"
        }
      },
      "source": [
        "# Expected transcript\n",
        "!cat asr-wer-bench/data/en-US/audio/2830-3980-0043.txt"
      ],
      "execution_count": 29,
      "outputs": [
        {
          "output_type": "stream",
          "text": [
            "experience proves this\n"
          ],
          "name": "stdout"
        }
      ]
    },
    {
      "cell_type": "markdown",
      "metadata": {
        "id": "FhuUkOiMoMip"
      },
      "source": [
        "### Run Test Bench"
      ]
    },
    {
      "cell_type": "code",
      "metadata": {
        "id": "EI-lsaVCojVa",
        "outputId": "e2379cbf-229f-42ab-e9ed-cd2961d5ceae",
        "colab": {
          "base_uri": "https://localhost:8080/"
        }
      },
      "source": [
        "!PYTHONPATH=asr-wer-bench python asr-wer-bench/werbench/asr/engine.py \\\n",
        "  --engine deepspeech \\\n",
        "  --model-path-prefix ./models/deepspeech/en-US/deepspeech-0.8.1-models \\\n",
        "  --input-dir ./asr-wer-bench/data/en-US/audio \\\n",
        "  --output-path-prefix ./deepspeech-out"
      ],
      "execution_count": 30,
      "outputs": [
        {
          "output_type": "stream",
          "text": [
            "TensorFlow: v2.2.0-24-g1c1b2b9\n",
            "DeepSpeech: v0.8.1-0-gfa883eb\n",
            "2020-11-12 08:48:27.985978: I tensorflow/core/platform/cpu_feature_guard.cc:143] Your CPU supports instructions that this TensorFlow binary was not compiled to use: AVX2 FMA\n"
          ],
          "name": "stdout"
        }
      ]
    },
    {
      "cell_type": "markdown",
      "metadata": {
        "id": "1_zWpDxppKIE"
      },
      "source": [
        "Compare using `sclite`:"
      ]
    },
    {
      "cell_type": "code",
      "metadata": {
        "id": "LkQp__1MpN9t",
        "outputId": "86b4a07a-8773-46dc-8d0c-ee99bb613f41",
        "colab": {
          "base_uri": "https://localhost:8080/"
        }
      },
      "source": [
        "!./SCTK/bin/sclite -r deepspeech-out.ref trn -h deepspeech-out.hyp trn -i rm"
      ],
      "execution_count": 31,
      "outputs": [
        {
          "output_type": "stream",
          "text": [
            "sclite: 2.10 TK Version 1.3\n",
            "Begin alignment of Ref File: 'deepspeech-out.ref' and Hyp File: 'deepspeech-out.hyp'\n",
            "\r    Alignment# 1 for speaker 4507          \n",
            "\r    Alignment# 1 for speaker 8455          \n",
            "\r    Alignment# 1 for speaker 2830          \n",
            "\n",
            "\n",
            "\n",
            "\n",
            "                     SYSTEM SUMMARY PERCENTAGES by SPEAKER                      \n",
            "\n",
            "       ,----------------------------------------------------------------.\n",
            "       |                       deepspeech-out.hyp                       |\n",
            "       |----------------------------------------------------------------|\n",
            "       | SPKR   | # Snt # Wrd | Corr    Sub    Del    Ins    Err  S.Err |\n",
            "       |--------+-------------+-----------------------------------------|\n",
            "       | 4507   |    1      7 | 85.7   14.3    0.0    0.0   14.3  100.0 |\n",
            "       |--------+-------------+-----------------------------------------|\n",
            "       | 8455   |    1      6 |100.0    0.0    0.0    0.0    0.0    0.0 |\n",
            "       |--------+-------------+-----------------------------------------|\n",
            "       | 2830   |    1      3 |100.0    0.0    0.0    0.0    0.0    0.0 |\n",
            "       |================================================================|\n",
            "       | Sum/Avg|    3     16 | 93.8    6.3    0.0    0.0    6.3   33.3 |\n",
            "       |================================================================|\n",
            "       |  Mean  |  1.0    5.3 | 95.2    4.8    0.0    0.0    4.8   33.3 |\n",
            "       |  S.D.  |  0.0    2.1 |  8.2    8.2    0.0    0.0    8.2   57.7 |\n",
            "       | Median |  1.0    6.0 |100.0    0.0    0.0    0.0    0.0    0.0 |\n",
            "       `----------------------------------------------------------------'\n",
            "\n",
            "Successful Completion\n"
          ],
          "name": "stdout"
        }
      ]
    },
    {
      "cell_type": "markdown",
      "metadata": {
        "id": "NdsSh43HBMht"
      },
      "source": [
        "## Facebook wav2vec 2.0\n",
        "\n",
        "When it comes to engineering, wav2vec is not as mature as Mozilla DeepSpeech:\n",
        "\n",
        "- FairSeq [PyPi package is 1+ yr stale](https://github.com/pytorch/fairseq/issues/2737).\n",
        "- There is not even requirements.txt in the source code.\n",
        "- Wav2Vec has no simple API for batch and streaming ASR for one wav file.\n",
        "- Pieces from kenlm, wav2letter, wav2vec has to brought together (vs. here is package, and here is model, and here is a straight forward API to use the two together on a wav file).\n",
        "\n",
        "Beware that it is research quality software."
      ]
    },
    {
      "cell_type": "code",
      "metadata": {
        "id": "mQJzQndMyu-C"
      },
      "source": [
        "!pip install soundfile torchaudio sentencepiece omegaconf hydra-core &> /dev/null"
      ],
      "execution_count": 32,
      "outputs": []
    },
    {
      "cell_type": "markdown",
      "metadata": {
        "id": "LG51nJyZ0psf"
      },
      "source": [
        "### Install wav2letter"
      ]
    },
    {
      "cell_type": "code",
      "metadata": {
        "id": "RcQcrdvv0wJb",
        "outputId": "11e08bef-1f6d-4a79-cbff-1e7b350532b8",
        "colab": {
          "base_uri": "https://localhost:8080/"
        }
      },
      "source": [
        "!git clone -b v0.2 https://github.com/facebookresearch/wav2letter.git"
      ],
      "execution_count": 33,
      "outputs": [
        {
          "output_type": "stream",
          "text": [
            "Cloning into 'wav2letter'...\n",
            "remote: Enumerating objects: 41, done.\u001b[K\n",
            "remote: Counting objects: 100% (41/41), done.\u001b[K\n",
            "remote: Compressing objects: 100% (31/31), done.\u001b[K\n",
            "remote: Total 6215 (delta 11), reused 28 (delta 9), pack-reused 6174\u001b[K\n",
            "Receiving objects: 100% (6215/6215), 5.98 MiB | 22.04 MiB/s, done.\n",
            "Resolving deltas: 100% (3990/3990), done.\n"
          ],
          "name": "stdout"
        }
      ]
    },
    {
      "cell_type": "code",
      "metadata": {
        "id": "o7fol5Fl01Qe",
        "outputId": "01064d1d-cae1-43e6-a9b0-f245cdb7a69c",
        "colab": {
          "base_uri": "https://localhost:8080/"
        }
      },
      "source": [
        "!cd wav2letter/bindings/python && pip install -e ."
      ],
      "execution_count": 34,
      "outputs": [
        {
          "output_type": "stream",
          "text": [
            "Obtaining file:///content/wav2letter/bindings/python\n",
            "Installing collected packages: wav2letter\n",
            "  Found existing installation: wav2letter 0.0.2\n",
            "    Can't uninstall 'wav2letter'. No files were found to uninstall.\n",
            "  Running setup.py develop for wav2letter\n",
            "Successfully installed wav2letter\n"
          ],
          "name": "stdout"
        }
      ]
    },
    {
      "cell_type": "markdown",
      "metadata": {
        "id": "QZI5iPn2BZNX"
      },
      "source": [
        "### Download Model\n",
        "\n",
        "Pretrained models: https://github.com/pytorch/fairseq/blob/master/examples/wav2vec/README.md"
      ]
    },
    {
      "cell_type": "code",
      "metadata": {
        "id": "a1ZPRGx4BcZH",
        "outputId": "7a45edd6-eb5b-4681-9d95-a733890801bb",
        "colab": {
          "base_uri": "https://localhost:8080/"
        }
      },
      "source": [
        "!mkdir -p ./models/wav2vec20/en-US/\n",
        "\n",
        "!cd ./models/wav2vec20/en-US/ && curl -LO https://dl.fbaipublicfiles.com/fairseq/wav2vec/wav2vec_vox_960h_pl.pt\n",
        "!cd ./models/wav2vec20/en-US/ && curl -LO https://dl.fbaipublicfiles.com/fairseq/wav2vec/wav2vec_small_960h.pt\n",
        "\n",
        "!cd ./models/wav2vec20/en-US/ && curl -LO https://dl.fbaipublicfiles.com/fairseq/wav2vec/dict.ltr.txt\n",
        "\n",
        "!cd ./models/wav2vec20/en-US/ && curl -LO https://dl.fbaipublicfiles.com/fairseq/wav2vec/librispeech_lexicon.lst"
      ],
      "execution_count": 35,
      "outputs": [
        {
          "output_type": "stream",
          "text": [
            "  % Total    % Received % Xferd  Average Speed   Time    Time     Time  Current\n",
            "                                 Dload  Upload   Total   Spent    Left  Speed\n",
            "100 3610M  100 3610M    0     0  23.6M      0  0:02:32  0:02:32 --:--:-- 23.6M\n",
            "  % Total    % Received % Xferd  Average Speed   Time    Time     Time  Current\n",
            "                                 Dload  Upload   Total   Spent    Left  Speed\n",
            "100  900M  100  900M    0     0  23.0M      0  0:00:39  0:00:39 --:--:-- 23.7M\n",
            "  % Total    % Received % Xferd  Average Speed   Time    Time     Time  Current\n",
            "                                 Dload  Upload   Total   Spent    Left  Speed\n",
            "100   207  100   207    0     0    400      0 --:--:-- --:--:-- --:--:--   400\n",
            "  % Total    % Received % Xferd  Average Speed   Time    Time     Time  Current\n",
            "                                 Dload  Upload   Total   Spent    Left  Speed\n",
            "100 5093k  100 5093k    0     0  4491k      0  0:00:01  0:00:01 --:--:-- 4487k\n"
          ],
          "name": "stdout"
        }
      ]
    },
    {
      "cell_type": "code",
      "metadata": {
        "id": "oubRQsCI2hop",
        "outputId": "c7a3d107-7640-4f17-c4ff-c6ca1ba41f7f",
        "colab": {
          "base_uri": "https://localhost:8080/"
        }
      },
      "source": [
        "!ls -l ./models/wav2vec20/en-US/"
      ],
      "execution_count": 36,
      "outputs": [
        {
          "output_type": "stream",
          "text": [
            "total 4624128\n",
            "-rw-r--r-- 1 root root        207 Nov 12 08:54 dict.ltr.txt\n",
            "-rw-r--r-- 1 root root    5215947 Nov 12 08:54 librispeech_lexicon.lst\n",
            "-rw-r--r-- 1 root root  944029831 Nov 12 08:54 wav2vec_small_960h.pt\n",
            "-rw-r--r-- 1 root root 3785840758 Nov 12 08:53 wav2vec_vox_960h_pl.pt\n"
          ],
          "name": "stdout"
        }
      ]
    },
    {
      "cell_type": "markdown",
      "metadata": {
        "id": "z7uz67WoCBBF"
      },
      "source": [
        "### Install fairseq"
      ]
    },
    {
      "cell_type": "code",
      "metadata": {
        "id": "Oql7TjRPCFIE",
        "outputId": "d2dde53d-f99a-4dca-e9c7-e4480cde59b5",
        "colab": {
          "base_uri": "https://localhost:8080/"
        }
      },
      "source": [
        "!git clone https://github.com/pytorch/fairseq.git"
      ],
      "execution_count": 37,
      "outputs": [
        {
          "output_type": "stream",
          "text": [
            "Cloning into 'fairseq'...\n",
            "remote: Enumerating objects: 43, done.\u001b[K\n",
            "remote: Counting objects: 100% (43/43), done.\u001b[K\n",
            "remote: Compressing objects: 100% (35/35), done.\u001b[K\n",
            "remote: Total 19672 (delta 15), reused 17 (delta 8), pack-reused 19629\u001b[K\n",
            "Receiving objects: 100% (19672/19672), 8.88 MiB | 23.86 MiB/s, done.\n",
            "Resolving deltas: 100% (14679/14679), done.\n"
          ],
          "name": "stdout"
        }
      ]
    },
    {
      "cell_type": "code",
      "metadata": {
        "id": "2f25sMVrCSE1"
      },
      "source": [
        "!pip install --editable ./fairseq/ &> /dev/null"
      ],
      "execution_count": 38,
      "outputs": []
    },
    {
      "cell_type": "code",
      "metadata": {
        "id": "21oI4aBcCdzg"
      },
      "source": [
        "# On MacOS\n",
        "#!CFLAGS=\"-stdlib=libc++\" pip install --editable ./fairseq/ &> /dev/null"
      ],
      "execution_count": 39,
      "outputs": []
    },
    {
      "cell_type": "code",
      "metadata": {
        "id": "2wi5upfuRsCc",
        "outputId": "79427c5c-c35c-47b1-8373-e3077640daaf",
        "colab": {
          "base_uri": "https://localhost:8080/"
        }
      },
      "source": [
        "!pip3 list | grep fairseq"
      ],
      "execution_count": 40,
      "outputs": [
        {
          "output_type": "stream",
          "text": [
            "fairseq                       1.0.0a0+e607911 /content/fairseq                   \n"
          ],
          "name": "stdout"
        }
      ]
    },
    {
      "cell_type": "code",
      "metadata": {
        "id": "g91XiIZXD91C",
        "outputId": "58ded5b8-ed63-4cc4-e096-836d66ad0229",
        "colab": {
          "base_uri": "https://localhost:8080/"
        }
      },
      "source": [
        "!ls -l "
      ],
      "execution_count": 41,
      "outputs": [
        {
          "output_type": "stream",
          "text": [
            "total 36\n",
            "drwxr-xr-x  5 root root 4096 Nov 12 08:48 asr-wer-bench\n",
            "-rw-r--r--  1 root root  140 Nov 12 08:48 deepspeech-out.hyp\n",
            "-rw-r--r--  1 root root  140 Nov 12 08:48 deepspeech-out.ref\n",
            "drwxr-xr-x 12 root root 4096 Nov 12 08:54 fairseq\n",
            "drwxr-xr-x  9 root root 4096 Nov 12 08:41 kenlm\n",
            "drwxr-xr-x  5 root root 4096 Nov 12 08:51 models\n",
            "drwxr-xr-x  1 root root 4096 Nov  6 17:30 sample_data\n",
            "drwxr-xr-x  6 root root 4096 Nov 12 08:39 SCTK\n",
            "drwxr-xr-x 12 root root 4096 Nov 12 08:48 wav2letter\n"
          ],
          "name": "stdout"
        }
      ]
    },
    {
      "cell_type": "markdown",
      "metadata": {
        "id": "QZB-rihksuO_"
      },
      "source": [
        "### Prepare data/manifest for wav2vec"
      ]
    },
    {
      "cell_type": "code",
      "metadata": {
        "id": "ghEmVcLBs3Gp"
      },
      "source": [
        "!mkdir -p ./wav2vec-manifest\n",
        "!cp ./models/wav2vec20/en-US/dict.ltr.txt ./wav2vec-manifest/"
      ],
      "execution_count": 42,
      "outputs": []
    },
    {
      "cell_type": "code",
      "metadata": {
        "id": "4ZcftOS_v7jN"
      },
      "source": [
        "import soundfile as sf"
      ],
      "execution_count": 43,
      "outputs": []
    },
    {
      "cell_type": "code",
      "metadata": {
        "id": "nx_pW0yMs8Li",
        "outputId": "644174a2-c33e-404d-dfb7-d3e0e407f624",
        "colab": {
          "base_uri": "https://localhost:8080/"
        }
      },
      "source": [
        "!!PYTHONPATH=\"fairseq\" python fairseq/examples/wav2vec/wav2vec_manifest.py ./asr-wer-bench/data/en-US/audio --dest ./wav2vec-manifest --ext wav --valid-percent 0"
      ],
      "execution_count": 44,
      "outputs": [
        {
          "output_type": "execute_result",
          "data": {
            "text/plain": [
              "[]"
            ]
          },
          "metadata": {
            "tags": []
          },
          "execution_count": 44
        }
      ]
    },
    {
      "cell_type": "code",
      "metadata": {
        "id": "zNiA9uVOs733",
        "outputId": "91bd075d-9b4b-4025-b5a9-cc302f596e10",
        "colab": {
          "base_uri": "https://localhost:8080/"
        }
      },
      "source": [
        "!ls -l ./wav2vec-manifest/"
      ],
      "execution_count": 45,
      "outputs": [
        {
          "output_type": "stream",
          "text": [
            "total 12\n",
            "-rw-r--r-- 1 root root 207 Nov 12 08:55 dict.ltr.txt\n",
            "-rw-r--r-- 1 root root 118 Nov 12 08:55 train.tsv\n",
            "-rw-r--r-- 1 root root  40 Nov 12 08:55 valid.tsv\n"
          ],
          "name": "stdout"
        }
      ]
    },
    {
      "cell_type": "code",
      "metadata": {
        "id": "c5NswbmDw_dB"
      },
      "source": [
        "# Doing no training here, just want to check that the fairseq/wav2vec setup works\n",
        "!cp ./wav2vec-manifest/train.tsv ./wav2vec-manifest/test.tsv\n",
        "!cp ./wav2vec-manifest/dict.ltr.txt ./wav2vec-manifest/test.ltr"
      ],
      "execution_count": 46,
      "outputs": []
    },
    {
      "cell_type": "markdown",
      "metadata": {
        "id": "MFaUgIm2sux1"
      },
      "source": [
        "### Verify wav2vec"
      ]
    },
    {
      "cell_type": "code",
      "metadata": {
        "id": "C1cFgokuE7rz",
        "outputId": "a57532d2-9d4b-4ece-8dfc-0722852a4960",
        "colab": {
          "base_uri": "https://localhost:8080/"
        }
      },
      "source": [
        "# Verify wav2vec\n",
        "\n",
        "!PYTHONPATH=\"fairseq\" python fairseq/examples/speech_recognition/infer.py \\\n",
        "./wav2vec-manifest \\\n",
        "--path ./models/wav2vec20/en-US/wav2vec_small_960h.pt \\\n",
        "--results-path ./models/wav2vec20/en-US/result-wav2vec \\\n",
        "--lexicon ./models/wav2vec20/en-US/librispeech_lexicon.lst \\\n",
        "--w2l-decoder kenlm --lm-model ./models/kenlm/en-US/4-gram.bin \\\n",
        "--task audio_pretraining \\\n",
        "--nbest 1 --gen-subset test \\\n",
        "--lm-weight 2 --word-score -1 --sil-weight 0 --criterion ctc --labels ltr --max-tokens 4000000 \\\n",
        "--post-process letter --cpu --num-workers 1 --batch-size 8 --beam 1024"
      ],
      "execution_count": 47,
      "outputs": [
        {
          "output_type": "stream",
          "text": [
            "INFO:__main__:Namespace(all_gather_list_size=16384, autoregressive=False, batch_size=8, batch_size_valid=8, beam=1024, beam_size_token=100, beam_threshold=25.0, best_checkpoint_metric='loss', bf16=False, bpe=None, broadcast_buffers=False, bucket_cap_mb=25, checkpoint_shard_count=1, checkpoint_suffix='', constraints=None, cpu=True, criterion='ctc', curriculum=0, data='./wav2vec-manifest', data_buffer_size=10, dataset_impl=None, ddp_backend='c10d', decoding_format=None, device_id=0, disable_validation=False, distributed_backend='nccl', distributed_init_method=None, distributed_no_spawn=False, distributed_port=-1, distributed_rank=0, distributed_world_size=1, distributed_wrapper='DDP', diverse_beam_groups=-1, diverse_beam_strength=0.5, diversity_rate=-1.0, dump_emissions=None, dump_features=None, empty_cache_freq=0, enable_padding=False, eos=2, eval_wer=False, eval_wer_post_process='letter', eval_wer_tokenizer=None, fast_stat_sync=False, find_unused_parameters=False, finetune_from_model=None, fix_batches_to_gpus=False, fixed_validation_seed=None, force_anneal=None, fp16=False, fp16_init_scale=128, fp16_no_flatten_grads=False, fp16_scale_tolerance=0.0, fp16_scale_window=None, gen_subset='test', iter_decode_eos_penalty=0.0, iter_decode_force_max_iter=False, iter_decode_max_iter=10, iter_decode_with_beam=1, iter_decode_with_external_reranker=False, keep_best_checkpoints=-1, keep_interval_updates=-1, keep_last_epochs=-1, kenlm_model='./models/kenlm/en-US/4-gram.bin', kspmodel=None, labels='ltr', lenpen=1, lexicon='./models/wav2vec20/en-US/librispeech_lexicon.lst', lm_path=None, lm_weight=2.0, load_emissions=None, local_rank=0, localsgd_frequency=3, log_format=None, log_interval=100, lr_scheduler='fixed', lr_shrink=0.1, match_source_len=False, max_len_a=0, max_len_b=200, max_sample_size=None, max_tokens=4000000, max_tokens_valid=4000000, maximize_best_checkpoint_metric=False, memory_efficient_bf16=False, memory_efficient_fp16=False, min_len=1, min_loss_scale=0.0001, min_sample_size=None, model_overrides='{}', model_parallel_size=1, nbest=1, no_beamable_mm=False, no_early_stop=False, no_epoch_checkpoints=False, no_last_checkpoints=False, no_progress_bar=False, no_repeat_ngram_size=0, no_save=False, no_save_optimizer_state=False, no_seed_provided=False, normalize=False, nprocs_per_node=1, num_shards=1, num_workers=1, optimizer=None, optimizer_overrides='{}', pad=1, path='./models/wav2vec20/en-US/wav2vec_small_960h.pt', patience=-1, pipeline_balance=None, pipeline_checkpoint='never', pipeline_chunks=0, pipeline_decoder_balance=None, pipeline_decoder_devices=None, pipeline_devices=None, pipeline_encoder_balance=None, pipeline_encoder_devices=None, pipeline_model_parallel=False, post_process='letter', prefix_size=0, print_alignment=False, print_step=False, profile=False, quantization_config_path=None, quiet=False, replace_unk=None, required_batch_size_multiple=8, required_seq_len_multiple=1, reset_dataloader=False, reset_lr_scheduler=False, reset_meters=False, reset_optimizer=False, restore_file='checkpoint_last.pt', results_path='./models/wav2vec20/en-US/result-wav2vec', retain_dropout=False, retain_dropout_modules=None, retain_iter_history=False, rnnt_decoding_type='greedy', rnnt_len_penalty=-0.5, sacrebleu=False, sample_rate=16000, sampling=False, sampling_topk=-1, sampling_topp=-1.0, save_dir='checkpoints', save_interval=1, save_interval_updates=0, score_reference=False, scoring='bleu', seed=1, shard_id=0, sil_weight=0.0, skip_invalid_size_inputs_valid_test=False, slowmo_algorithm='LocalSGD', slowmo_momentum=None, task='audio_pretraining', temperature=1.0, tensorboard_logdir=None, threshold_loss_scale=None, tokenizer=None, tpu=False, train_subset='train', unit_lm=False, unk=3, unk_weight=-inf, unkpen=0, unnormalized=False, user_dir=None, valid_subset='valid', validate_after_updates=0, validate_interval=1, validate_interval_updates=0, w2l_decoder='kenlm', wandb_project=None, warmup_updates=0, wer_args=None, wfstlm=None, word_score=-1.0, zero_infinity=False, zero_sharding='none')\n",
            "INFO:__main__:| decoding with criterion ctc\n",
            "INFO:__main__:| loading model(s) from ./models/wav2vec20/en-US/wav2vec_small_960h.pt\n",
            "INFO:fairseq.data.audio.raw_audio_dataset:loaded 3, skipped 0 samples\n",
            "INFO:__main__:| ./wav2vec-manifest test 3 examples\n",
            "INFO:__main__:WER: 633.3333333333334\n",
            "INFO:__main__:| Processed 3 sentences (93 tokens) in 3.8s (0.78sentences/s, 24.21 tokens/s)\n",
            "INFO:__main__:| Generate test with beam=1024\n"
          ],
          "name": "stdout"
        }
      ]
    },
    {
      "cell_type": "markdown",
      "metadata": {
        "id": "G2QJ5zVi0eBN"
      },
      "source": [
        "### Run Test Bench"
      ]
    },
    {
      "cell_type": "code",
      "metadata": {
        "id": "VHVr0ZGU2CxQ"
      },
      "source": [
        ""
      ],
      "execution_count": null,
      "outputs": []
    },
    {
      "cell_type": "code",
      "metadata": {
        "id": "QiYaLtD72DDB"
      },
      "source": [
        ""
      ],
      "execution_count": null,
      "outputs": []
    },
    {
      "cell_type": "code",
      "metadata": {
        "id": "-D1W8O4-D3N7"
      },
      "source": [
        ""
      ],
      "execution_count": null,
      "outputs": []
    },
    {
      "cell_type": "code",
      "metadata": {
        "id": "daPoBIpJoWux"
      },
      "source": [
        ""
      ],
      "execution_count": null,
      "outputs": []
    },
    {
      "cell_type": "code",
      "metadata": {
        "id": "_0ayyYjqoYLA"
      },
      "source": [
        ""
      ],
      "execution_count": null,
      "outputs": []
    },
    {
      "cell_type": "markdown",
      "metadata": {
        "id": "MUFV4cf2r-In"
      },
      "source": [
        "---\n",
        "&copy; 2020 Slang Labs Private Limited. All rights reserved."
      ]
    }
  ]
}
